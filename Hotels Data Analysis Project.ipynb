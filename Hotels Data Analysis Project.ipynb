{
 "cells": [
  {
   "cell_type": "code",
   "execution_count": 1,
   "metadata": {},
   "outputs": [],
   "source": [
    "# import Libraries\n",
    "import pandas as pd\n",
    "import numpy as np\n",
    "import seaborn as sns\n",
    "\n",
    "import matplotlib\n",
    "import matplotlib.pyplot as plt\n",
    "plt.style.use('ggplot')\n",
    "from matplotlib.pyplot import figure\n",
    "\n",
    "%matplotlib inline\n",
    "matplotlib.rcParams['figure.figsize']=(12,8)"
   ]
  },
  {
   "cell_type": "code",
   "execution_count": 2,
   "metadata": {},
   "outputs": [],
   "source": [
    "# Read in the data\n",
    "df = pd.read_csv(r'C:\\Users\\.............\\Hotel\\hotel_bookings.csv')"
   ]
  },
  {
   "cell_type": "code",
   "execution_count": 3,
   "metadata": {},
   "outputs": [
    {
     "data": {
      "text/html": [
       "<div>\n",
       "<style scoped>\n",
       "    .dataframe tbody tr th:only-of-type {\n",
       "        vertical-align: middle;\n",
       "    }\n",
       "\n",
       "    .dataframe tbody tr th {\n",
       "        vertical-align: top;\n",
       "    }\n",
       "\n",
       "    .dataframe thead th {\n",
       "        text-align: right;\n",
       "    }\n",
       "</style>\n",
       "<table border=\"1\" class=\"dataframe\">\n",
       "  <thead>\n",
       "    <tr style=\"text-align: right;\">\n",
       "      <th></th>\n",
       "      <th>hotel</th>\n",
       "      <th>is_canceled</th>\n",
       "      <th>lead_time</th>\n",
       "      <th>arrival_date_year</th>\n",
       "      <th>arrival_date_month</th>\n",
       "      <th>arrival_date_week_number</th>\n",
       "      <th>arrival_date_day_of_month</th>\n",
       "      <th>stays_in_weekend_nights</th>\n",
       "      <th>stays_in_week_nights</th>\n",
       "      <th>adults</th>\n",
       "      <th>...</th>\n",
       "      <th>deposit_type</th>\n",
       "      <th>agent</th>\n",
       "      <th>company</th>\n",
       "      <th>days_in_waiting_list</th>\n",
       "      <th>customer_type</th>\n",
       "      <th>adr</th>\n",
       "      <th>required_car_parking_spaces</th>\n",
       "      <th>total_of_special_requests</th>\n",
       "      <th>reservation_status</th>\n",
       "      <th>reservation_status_date</th>\n",
       "    </tr>\n",
       "  </thead>\n",
       "  <tbody>\n",
       "    <tr>\n",
       "      <th>0</th>\n",
       "      <td>Resort Hotel</td>\n",
       "      <td>0</td>\n",
       "      <td>342</td>\n",
       "      <td>2015</td>\n",
       "      <td>July</td>\n",
       "      <td>27</td>\n",
       "      <td>1</td>\n",
       "      <td>0</td>\n",
       "      <td>0</td>\n",
       "      <td>2</td>\n",
       "      <td>...</td>\n",
       "      <td>No Deposit</td>\n",
       "      <td>NaN</td>\n",
       "      <td>NaN</td>\n",
       "      <td>0</td>\n",
       "      <td>Transient</td>\n",
       "      <td>0.0</td>\n",
       "      <td>0</td>\n",
       "      <td>0</td>\n",
       "      <td>Check-Out</td>\n",
       "      <td>2015-07-01</td>\n",
       "    </tr>\n",
       "    <tr>\n",
       "      <th>1</th>\n",
       "      <td>Resort Hotel</td>\n",
       "      <td>0</td>\n",
       "      <td>737</td>\n",
       "      <td>2015</td>\n",
       "      <td>July</td>\n",
       "      <td>27</td>\n",
       "      <td>1</td>\n",
       "      <td>0</td>\n",
       "      <td>0</td>\n",
       "      <td>2</td>\n",
       "      <td>...</td>\n",
       "      <td>No Deposit</td>\n",
       "      <td>NaN</td>\n",
       "      <td>NaN</td>\n",
       "      <td>0</td>\n",
       "      <td>Transient</td>\n",
       "      <td>0.0</td>\n",
       "      <td>0</td>\n",
       "      <td>0</td>\n",
       "      <td>Check-Out</td>\n",
       "      <td>2015-07-01</td>\n",
       "    </tr>\n",
       "    <tr>\n",
       "      <th>2</th>\n",
       "      <td>Resort Hotel</td>\n",
       "      <td>0</td>\n",
       "      <td>7</td>\n",
       "      <td>2015</td>\n",
       "      <td>July</td>\n",
       "      <td>27</td>\n",
       "      <td>1</td>\n",
       "      <td>0</td>\n",
       "      <td>1</td>\n",
       "      <td>1</td>\n",
       "      <td>...</td>\n",
       "      <td>No Deposit</td>\n",
       "      <td>NaN</td>\n",
       "      <td>NaN</td>\n",
       "      <td>0</td>\n",
       "      <td>Transient</td>\n",
       "      <td>75.0</td>\n",
       "      <td>0</td>\n",
       "      <td>0</td>\n",
       "      <td>Check-Out</td>\n",
       "      <td>2015-07-02</td>\n",
       "    </tr>\n",
       "    <tr>\n",
       "      <th>3</th>\n",
       "      <td>Resort Hotel</td>\n",
       "      <td>0</td>\n",
       "      <td>13</td>\n",
       "      <td>2015</td>\n",
       "      <td>July</td>\n",
       "      <td>27</td>\n",
       "      <td>1</td>\n",
       "      <td>0</td>\n",
       "      <td>1</td>\n",
       "      <td>1</td>\n",
       "      <td>...</td>\n",
       "      <td>No Deposit</td>\n",
       "      <td>304.0</td>\n",
       "      <td>NaN</td>\n",
       "      <td>0</td>\n",
       "      <td>Transient</td>\n",
       "      <td>75.0</td>\n",
       "      <td>0</td>\n",
       "      <td>0</td>\n",
       "      <td>Check-Out</td>\n",
       "      <td>2015-07-02</td>\n",
       "    </tr>\n",
       "    <tr>\n",
       "      <th>4</th>\n",
       "      <td>Resort Hotel</td>\n",
       "      <td>0</td>\n",
       "      <td>14</td>\n",
       "      <td>2015</td>\n",
       "      <td>July</td>\n",
       "      <td>27</td>\n",
       "      <td>1</td>\n",
       "      <td>0</td>\n",
       "      <td>2</td>\n",
       "      <td>2</td>\n",
       "      <td>...</td>\n",
       "      <td>No Deposit</td>\n",
       "      <td>240.0</td>\n",
       "      <td>NaN</td>\n",
       "      <td>0</td>\n",
       "      <td>Transient</td>\n",
       "      <td>98.0</td>\n",
       "      <td>0</td>\n",
       "      <td>1</td>\n",
       "      <td>Check-Out</td>\n",
       "      <td>2015-07-03</td>\n",
       "    </tr>\n",
       "  </tbody>\n",
       "</table>\n",
       "<p>5 rows × 32 columns</p>\n",
       "</div>"
      ],
      "text/plain": [
       "          hotel  is_canceled  lead_time  arrival_date_year arrival_date_month  \\\n",
       "0  Resort Hotel            0        342               2015               July   \n",
       "1  Resort Hotel            0        737               2015               July   \n",
       "2  Resort Hotel            0          7               2015               July   \n",
       "3  Resort Hotel            0         13               2015               July   \n",
       "4  Resort Hotel            0         14               2015               July   \n",
       "\n",
       "   arrival_date_week_number  arrival_date_day_of_month  \\\n",
       "0                        27                          1   \n",
       "1                        27                          1   \n",
       "2                        27                          1   \n",
       "3                        27                          1   \n",
       "4                        27                          1   \n",
       "\n",
       "   stays_in_weekend_nights  stays_in_week_nights  adults  ...  deposit_type  \\\n",
       "0                        0                     0       2  ...    No Deposit   \n",
       "1                        0                     0       2  ...    No Deposit   \n",
       "2                        0                     1       1  ...    No Deposit   \n",
       "3                        0                     1       1  ...    No Deposit   \n",
       "4                        0                     2       2  ...    No Deposit   \n",
       "\n",
       "   agent company days_in_waiting_list customer_type   adr  \\\n",
       "0    NaN     NaN                    0     Transient   0.0   \n",
       "1    NaN     NaN                    0     Transient   0.0   \n",
       "2    NaN     NaN                    0     Transient  75.0   \n",
       "3  304.0     NaN                    0     Transient  75.0   \n",
       "4  240.0     NaN                    0     Transient  98.0   \n",
       "\n",
       "   required_car_parking_spaces  total_of_special_requests  reservation_status  \\\n",
       "0                            0                          0           Check-Out   \n",
       "1                            0                          0           Check-Out   \n",
       "2                            0                          0           Check-Out   \n",
       "3                            0                          0           Check-Out   \n",
       "4                            0                          1           Check-Out   \n",
       "\n",
       "  reservation_status_date  \n",
       "0              2015-07-01  \n",
       "1              2015-07-01  \n",
       "2              2015-07-02  \n",
       "3              2015-07-02  \n",
       "4              2015-07-03  \n",
       "\n",
       "[5 rows x 32 columns]"
      ]
     },
     "execution_count": 3,
     "metadata": {},
     "output_type": "execute_result"
    }
   ],
   "source": [
    "# Checking the data\n",
    "\n",
    "df.head()"
   ]
  },
  {
   "cell_type": "code",
   "execution_count": null,
   "metadata": {},
   "outputs": [],
   "source": []
  },
  {
   "cell_type": "code",
   "execution_count": 4,
   "metadata": {},
   "outputs": [
    {
     "data": {
      "text/plain": [
       "(119390, 32)"
      ]
     },
     "execution_count": 4,
     "metadata": {},
     "output_type": "execute_result"
    }
   ],
   "source": [
    "df.shape"
   ]
  },
  {
   "cell_type": "code",
   "execution_count": 5,
   "metadata": {},
   "outputs": [
    {
     "data": {
      "text/plain": [
       "hotel                              object\n",
       "is_canceled                         int64\n",
       "lead_time                           int64\n",
       "arrival_date_year                   int64\n",
       "arrival_date_month                 object\n",
       "arrival_date_week_number            int64\n",
       "arrival_date_day_of_month           int64\n",
       "stays_in_weekend_nights             int64\n",
       "stays_in_week_nights                int64\n",
       "adults                              int64\n",
       "children                          float64\n",
       "babies                              int64\n",
       "meal                               object\n",
       "country                            object\n",
       "market_segment                     object\n",
       "distribution_channel               object\n",
       "is_repeated_guest                   int64\n",
       "previous_cancellations              int64\n",
       "previous_bookings_not_canceled      int64\n",
       "reserved_room_type                 object\n",
       "assigned_room_type                 object\n",
       "booking_changes                     int64\n",
       "deposit_type                       object\n",
       "agent                             float64\n",
       "company                           float64\n",
       "days_in_waiting_list                int64\n",
       "customer_type                      object\n",
       "adr                               float64\n",
       "required_car_parking_spaces         int64\n",
       "total_of_special_requests           int64\n",
       "reservation_status                 object\n",
       "reservation_status_date            object\n",
       "dtype: object"
      ]
     },
     "execution_count": 5,
     "metadata": {},
     "output_type": "execute_result"
    }
   ],
   "source": [
    "# Data types in our columns\n",
    "df.dtypes"
   ]
  },
  {
   "cell_type": "code",
   "execution_count": 6,
   "metadata": {},
   "outputs": [
    {
     "data": {
      "text/html": [
       "<div>\n",
       "<style scoped>\n",
       "    .dataframe tbody tr th:only-of-type {\n",
       "        vertical-align: middle;\n",
       "    }\n",
       "\n",
       "    .dataframe tbody tr th {\n",
       "        vertical-align: top;\n",
       "    }\n",
       "\n",
       "    .dataframe thead th {\n",
       "        text-align: right;\n",
       "    }\n",
       "</style>\n",
       "<table border=\"1\" class=\"dataframe\">\n",
       "  <thead>\n",
       "    <tr style=\"text-align: right;\">\n",
       "      <th></th>\n",
       "      <th>is_canceled</th>\n",
       "      <th>lead_time</th>\n",
       "      <th>arrival_date_year</th>\n",
       "      <th>arrival_date_week_number</th>\n",
       "      <th>arrival_date_day_of_month</th>\n",
       "      <th>stays_in_weekend_nights</th>\n",
       "      <th>stays_in_week_nights</th>\n",
       "      <th>adults</th>\n",
       "      <th>children</th>\n",
       "      <th>babies</th>\n",
       "      <th>is_repeated_guest</th>\n",
       "      <th>previous_cancellations</th>\n",
       "      <th>previous_bookings_not_canceled</th>\n",
       "      <th>booking_changes</th>\n",
       "      <th>agent</th>\n",
       "      <th>company</th>\n",
       "      <th>days_in_waiting_list</th>\n",
       "      <th>adr</th>\n",
       "      <th>required_car_parking_spaces</th>\n",
       "      <th>total_of_special_requests</th>\n",
       "    </tr>\n",
       "  </thead>\n",
       "  <tbody>\n",
       "    <tr>\n",
       "      <th>count</th>\n",
       "      <td>119390.000000</td>\n",
       "      <td>119390.000000</td>\n",
       "      <td>119390.000000</td>\n",
       "      <td>119390.000000</td>\n",
       "      <td>119390.000000</td>\n",
       "      <td>119390.000000</td>\n",
       "      <td>119390.000000</td>\n",
       "      <td>119390.000000</td>\n",
       "      <td>119386.000000</td>\n",
       "      <td>119390.000000</td>\n",
       "      <td>119390.000000</td>\n",
       "      <td>119390.000000</td>\n",
       "      <td>119390.000000</td>\n",
       "      <td>119390.000000</td>\n",
       "      <td>103050.000000</td>\n",
       "      <td>6797.000000</td>\n",
       "      <td>119390.000000</td>\n",
       "      <td>119390.000000</td>\n",
       "      <td>119390.000000</td>\n",
       "      <td>119390.000000</td>\n",
       "    </tr>\n",
       "    <tr>\n",
       "      <th>mean</th>\n",
       "      <td>0.370416</td>\n",
       "      <td>104.011416</td>\n",
       "      <td>2016.156554</td>\n",
       "      <td>27.165173</td>\n",
       "      <td>15.798241</td>\n",
       "      <td>0.927599</td>\n",
       "      <td>2.500302</td>\n",
       "      <td>1.856403</td>\n",
       "      <td>0.103890</td>\n",
       "      <td>0.007949</td>\n",
       "      <td>0.031912</td>\n",
       "      <td>0.087118</td>\n",
       "      <td>0.137097</td>\n",
       "      <td>0.221124</td>\n",
       "      <td>86.693382</td>\n",
       "      <td>189.266735</td>\n",
       "      <td>2.321149</td>\n",
       "      <td>101.831122</td>\n",
       "      <td>0.062518</td>\n",
       "      <td>0.571363</td>\n",
       "    </tr>\n",
       "    <tr>\n",
       "      <th>std</th>\n",
       "      <td>0.482918</td>\n",
       "      <td>106.863097</td>\n",
       "      <td>0.707476</td>\n",
       "      <td>13.605138</td>\n",
       "      <td>8.780829</td>\n",
       "      <td>0.998613</td>\n",
       "      <td>1.908286</td>\n",
       "      <td>0.579261</td>\n",
       "      <td>0.398561</td>\n",
       "      <td>0.097436</td>\n",
       "      <td>0.175767</td>\n",
       "      <td>0.844336</td>\n",
       "      <td>1.497437</td>\n",
       "      <td>0.652306</td>\n",
       "      <td>110.774548</td>\n",
       "      <td>131.655015</td>\n",
       "      <td>17.594721</td>\n",
       "      <td>50.535790</td>\n",
       "      <td>0.245291</td>\n",
       "      <td>0.792798</td>\n",
       "    </tr>\n",
       "    <tr>\n",
       "      <th>min</th>\n",
       "      <td>0.000000</td>\n",
       "      <td>0.000000</td>\n",
       "      <td>2015.000000</td>\n",
       "      <td>1.000000</td>\n",
       "      <td>1.000000</td>\n",
       "      <td>0.000000</td>\n",
       "      <td>0.000000</td>\n",
       "      <td>0.000000</td>\n",
       "      <td>0.000000</td>\n",
       "      <td>0.000000</td>\n",
       "      <td>0.000000</td>\n",
       "      <td>0.000000</td>\n",
       "      <td>0.000000</td>\n",
       "      <td>0.000000</td>\n",
       "      <td>1.000000</td>\n",
       "      <td>6.000000</td>\n",
       "      <td>0.000000</td>\n",
       "      <td>-6.380000</td>\n",
       "      <td>0.000000</td>\n",
       "      <td>0.000000</td>\n",
       "    </tr>\n",
       "    <tr>\n",
       "      <th>25%</th>\n",
       "      <td>0.000000</td>\n",
       "      <td>18.000000</td>\n",
       "      <td>2016.000000</td>\n",
       "      <td>16.000000</td>\n",
       "      <td>8.000000</td>\n",
       "      <td>0.000000</td>\n",
       "      <td>1.000000</td>\n",
       "      <td>2.000000</td>\n",
       "      <td>0.000000</td>\n",
       "      <td>0.000000</td>\n",
       "      <td>0.000000</td>\n",
       "      <td>0.000000</td>\n",
       "      <td>0.000000</td>\n",
       "      <td>0.000000</td>\n",
       "      <td>9.000000</td>\n",
       "      <td>62.000000</td>\n",
       "      <td>0.000000</td>\n",
       "      <td>69.290000</td>\n",
       "      <td>0.000000</td>\n",
       "      <td>0.000000</td>\n",
       "    </tr>\n",
       "    <tr>\n",
       "      <th>50%</th>\n",
       "      <td>0.000000</td>\n",
       "      <td>69.000000</td>\n",
       "      <td>2016.000000</td>\n",
       "      <td>28.000000</td>\n",
       "      <td>16.000000</td>\n",
       "      <td>1.000000</td>\n",
       "      <td>2.000000</td>\n",
       "      <td>2.000000</td>\n",
       "      <td>0.000000</td>\n",
       "      <td>0.000000</td>\n",
       "      <td>0.000000</td>\n",
       "      <td>0.000000</td>\n",
       "      <td>0.000000</td>\n",
       "      <td>0.000000</td>\n",
       "      <td>14.000000</td>\n",
       "      <td>179.000000</td>\n",
       "      <td>0.000000</td>\n",
       "      <td>94.575000</td>\n",
       "      <td>0.000000</td>\n",
       "      <td>0.000000</td>\n",
       "    </tr>\n",
       "    <tr>\n",
       "      <th>75%</th>\n",
       "      <td>1.000000</td>\n",
       "      <td>160.000000</td>\n",
       "      <td>2017.000000</td>\n",
       "      <td>38.000000</td>\n",
       "      <td>23.000000</td>\n",
       "      <td>2.000000</td>\n",
       "      <td>3.000000</td>\n",
       "      <td>2.000000</td>\n",
       "      <td>0.000000</td>\n",
       "      <td>0.000000</td>\n",
       "      <td>0.000000</td>\n",
       "      <td>0.000000</td>\n",
       "      <td>0.000000</td>\n",
       "      <td>0.000000</td>\n",
       "      <td>229.000000</td>\n",
       "      <td>270.000000</td>\n",
       "      <td>0.000000</td>\n",
       "      <td>126.000000</td>\n",
       "      <td>0.000000</td>\n",
       "      <td>1.000000</td>\n",
       "    </tr>\n",
       "    <tr>\n",
       "      <th>max</th>\n",
       "      <td>1.000000</td>\n",
       "      <td>737.000000</td>\n",
       "      <td>2017.000000</td>\n",
       "      <td>53.000000</td>\n",
       "      <td>31.000000</td>\n",
       "      <td>19.000000</td>\n",
       "      <td>50.000000</td>\n",
       "      <td>55.000000</td>\n",
       "      <td>10.000000</td>\n",
       "      <td>10.000000</td>\n",
       "      <td>1.000000</td>\n",
       "      <td>26.000000</td>\n",
       "      <td>72.000000</td>\n",
       "      <td>21.000000</td>\n",
       "      <td>535.000000</td>\n",
       "      <td>543.000000</td>\n",
       "      <td>391.000000</td>\n",
       "      <td>5400.000000</td>\n",
       "      <td>8.000000</td>\n",
       "      <td>5.000000</td>\n",
       "    </tr>\n",
       "  </tbody>\n",
       "</table>\n",
       "</div>"
      ],
      "text/plain": [
       "         is_canceled      lead_time  arrival_date_year  \\\n",
       "count  119390.000000  119390.000000      119390.000000   \n",
       "mean        0.370416     104.011416        2016.156554   \n",
       "std         0.482918     106.863097           0.707476   \n",
       "min         0.000000       0.000000        2015.000000   \n",
       "25%         0.000000      18.000000        2016.000000   \n",
       "50%         0.000000      69.000000        2016.000000   \n",
       "75%         1.000000     160.000000        2017.000000   \n",
       "max         1.000000     737.000000        2017.000000   \n",
       "\n",
       "       arrival_date_week_number  arrival_date_day_of_month  \\\n",
       "count             119390.000000              119390.000000   \n",
       "mean                  27.165173                  15.798241   \n",
       "std                   13.605138                   8.780829   \n",
       "min                    1.000000                   1.000000   \n",
       "25%                   16.000000                   8.000000   \n",
       "50%                   28.000000                  16.000000   \n",
       "75%                   38.000000                  23.000000   \n",
       "max                   53.000000                  31.000000   \n",
       "\n",
       "       stays_in_weekend_nights  stays_in_week_nights         adults  \\\n",
       "count            119390.000000         119390.000000  119390.000000   \n",
       "mean                  0.927599              2.500302       1.856403   \n",
       "std                   0.998613              1.908286       0.579261   \n",
       "min                   0.000000              0.000000       0.000000   \n",
       "25%                   0.000000              1.000000       2.000000   \n",
       "50%                   1.000000              2.000000       2.000000   \n",
       "75%                   2.000000              3.000000       2.000000   \n",
       "max                  19.000000             50.000000      55.000000   \n",
       "\n",
       "            children         babies  is_repeated_guest  \\\n",
       "count  119386.000000  119390.000000      119390.000000   \n",
       "mean        0.103890       0.007949           0.031912   \n",
       "std         0.398561       0.097436           0.175767   \n",
       "min         0.000000       0.000000           0.000000   \n",
       "25%         0.000000       0.000000           0.000000   \n",
       "50%         0.000000       0.000000           0.000000   \n",
       "75%         0.000000       0.000000           0.000000   \n",
       "max        10.000000      10.000000           1.000000   \n",
       "\n",
       "       previous_cancellations  previous_bookings_not_canceled  \\\n",
       "count           119390.000000                   119390.000000   \n",
       "mean                 0.087118                        0.137097   \n",
       "std                  0.844336                        1.497437   \n",
       "min                  0.000000                        0.000000   \n",
       "25%                  0.000000                        0.000000   \n",
       "50%                  0.000000                        0.000000   \n",
       "75%                  0.000000                        0.000000   \n",
       "max                 26.000000                       72.000000   \n",
       "\n",
       "       booking_changes          agent      company  days_in_waiting_list  \\\n",
       "count    119390.000000  103050.000000  6797.000000         119390.000000   \n",
       "mean          0.221124      86.693382   189.266735              2.321149   \n",
       "std           0.652306     110.774548   131.655015             17.594721   \n",
       "min           0.000000       1.000000     6.000000              0.000000   \n",
       "25%           0.000000       9.000000    62.000000              0.000000   \n",
       "50%           0.000000      14.000000   179.000000              0.000000   \n",
       "75%           0.000000     229.000000   270.000000              0.000000   \n",
       "max          21.000000     535.000000   543.000000            391.000000   \n",
       "\n",
       "                 adr  required_car_parking_spaces  total_of_special_requests  \n",
       "count  119390.000000                119390.000000              119390.000000  \n",
       "mean      101.831122                     0.062518                   0.571363  \n",
       "std        50.535790                     0.245291                   0.792798  \n",
       "min        -6.380000                     0.000000                   0.000000  \n",
       "25%        69.290000                     0.000000                   0.000000  \n",
       "50%        94.575000                     0.000000                   0.000000  \n",
       "75%       126.000000                     0.000000                   1.000000  \n",
       "max      5400.000000                     8.000000                   5.000000  "
      ]
     },
     "execution_count": 6,
     "metadata": {},
     "output_type": "execute_result"
    }
   ],
   "source": [
    "df.describe()"
   ]
  },
  {
   "cell_type": "code",
   "execution_count": 7,
   "metadata": {},
   "outputs": [
    {
     "name": "stdout",
     "output_type": "stream",
     "text": [
      "hotel - 0.0%\n",
      "is_canceled - 0.0%\n",
      "lead_time - 0.0%\n",
      "arrival_date_year - 0.0%\n",
      "arrival_date_month - 0.0%\n",
      "arrival_date_week_number - 0.0%\n",
      "arrival_date_day_of_month - 0.0%\n",
      "stays_in_weekend_nights - 0.0%\n",
      "stays_in_week_nights - 0.0%\n",
      "adults - 0.0%\n",
      "children - 3.350364352123293e-05%\n",
      "babies - 0.0%\n",
      "meal - 0.0%\n",
      "country - 0.004087444509590418%\n",
      "market_segment - 0.0%\n",
      "distribution_channel - 0.0%\n",
      "is_repeated_guest - 0.0%\n",
      "previous_cancellations - 0.0%\n",
      "previous_bookings_not_canceled - 0.0%\n",
      "reserved_room_type - 0.0%\n",
      "assigned_room_type - 0.0%\n",
      "booking_changes - 0.0%\n",
      "deposit_type - 0.0%\n",
      "agent - 0.13686238378423654%\n",
      "company - 0.943068933746545%\n",
      "days_in_waiting_list - 0.0%\n",
      "customer_type - 0.0%\n",
      "adr - 0.0%\n",
      "required_car_parking_spaces - 0.0%\n",
      "total_of_special_requests - 0.0%\n",
      "reservation_status - 0.0%\n",
      "reservation_status_date - 0.0%\n"
     ]
    }
   ],
   "source": [
    "# Checking for missing data\n",
    "for col in df.columns:\n",
    "    pct_missing = np.mean(df[col].isnull())\n",
    "    print('{} - {}%'.format(col, pct_missing))"
   ]
  },
  {
   "cell_type": "code",
   "execution_count": 8,
   "metadata": {
    "scrolled": true
   },
   "outputs": [
    {
     "data": {
      "text/plain": [
       "hotel                             0\n",
       "is_canceled                       0\n",
       "lead_time                         0\n",
       "arrival_date_year                 0\n",
       "arrival_date_month                0\n",
       "arrival_date_week_number          0\n",
       "arrival_date_day_of_month         0\n",
       "stays_in_weekend_nights           0\n",
       "stays_in_week_nights              0\n",
       "adults                            0\n",
       "children                          0\n",
       "babies                            0\n",
       "meal                              0\n",
       "country                           0\n",
       "market_segment                    0\n",
       "distribution_channel              0\n",
       "is_repeated_guest                 0\n",
       "previous_cancellations            0\n",
       "previous_bookings_not_canceled    0\n",
       "reserved_room_type                0\n",
       "assigned_room_type                0\n",
       "booking_changes                   0\n",
       "deposit_type                      0\n",
       "days_in_waiting_list              0\n",
       "customer_type                     0\n",
       "adr                               0\n",
       "required_car_parking_spaces       0\n",
       "total_of_special_requests         0\n",
       "reservation_status                0\n",
       "reservation_status_date           0\n",
       "dtype: int64"
      ]
     },
     "execution_count": 8,
     "metadata": {},
     "output_type": "execute_result"
    }
   ],
   "source": [
    "# Cleaning the data\n",
    "df=df.drop(['agent','company'],axis=1)\n",
    "df = df.dropna(axis = 0)\n",
    "df.isnull().sum()"
   ]
  },
  {
   "cell_type": "code",
   "execution_count": 9,
   "metadata": {},
   "outputs": [
    {
     "data": {
      "text/html": [
       "<div>\n",
       "<style scoped>\n",
       "    .dataframe tbody tr th:only-of-type {\n",
       "        vertical-align: middle;\n",
       "    }\n",
       "\n",
       "    .dataframe tbody tr th {\n",
       "        vertical-align: top;\n",
       "    }\n",
       "\n",
       "    .dataframe thead th {\n",
       "        text-align: right;\n",
       "    }\n",
       "</style>\n",
       "<table border=\"1\" class=\"dataframe\">\n",
       "  <thead>\n",
       "    <tr style=\"text-align: right;\">\n",
       "      <th></th>\n",
       "      <th>is_canceled</th>\n",
       "      <th>lead_time</th>\n",
       "      <th>arrival_date_year</th>\n",
       "      <th>arrival_date_week_number</th>\n",
       "      <th>arrival_date_day_of_month</th>\n",
       "      <th>stays_in_weekend_nights</th>\n",
       "      <th>stays_in_week_nights</th>\n",
       "      <th>adults</th>\n",
       "      <th>children</th>\n",
       "      <th>babies</th>\n",
       "      <th>is_repeated_guest</th>\n",
       "      <th>previous_cancellations</th>\n",
       "      <th>previous_bookings_not_canceled</th>\n",
       "      <th>booking_changes</th>\n",
       "      <th>days_in_waiting_list</th>\n",
       "      <th>adr</th>\n",
       "      <th>required_car_parking_spaces</th>\n",
       "      <th>total_of_special_requests</th>\n",
       "    </tr>\n",
       "  </thead>\n",
       "  <tbody>\n",
       "    <tr>\n",
       "      <th>is_canceled</th>\n",
       "      <td>1.000000</td>\n",
       "      <td>0.291994</td>\n",
       "      <td>0.016412</td>\n",
       "      <td>0.007465</td>\n",
       "      <td>-0.006127</td>\n",
       "      <td>-0.002631</td>\n",
       "      <td>0.024110</td>\n",
       "      <td>0.058381</td>\n",
       "      <td>0.004751</td>\n",
       "      <td>-0.032521</td>\n",
       "      <td>-0.085179</td>\n",
       "      <td>0.109922</td>\n",
       "      <td>-0.055493</td>\n",
       "      <td>-0.144659</td>\n",
       "      <td>0.054016</td>\n",
       "      <td>0.046199</td>\n",
       "      <td>-0.194796</td>\n",
       "      <td>-0.235643</td>\n",
       "    </tr>\n",
       "    <tr>\n",
       "      <th>lead_time</th>\n",
       "      <td>0.291994</td>\n",
       "      <td>1.000000</td>\n",
       "      <td>0.039924</td>\n",
       "      <td>0.126738</td>\n",
       "      <td>0.002320</td>\n",
       "      <td>0.083984</td>\n",
       "      <td>0.164783</td>\n",
       "      <td>0.116799</td>\n",
       "      <td>-0.038335</td>\n",
       "      <td>-0.021149</td>\n",
       "      <td>-0.125091</td>\n",
       "      <td>0.085961</td>\n",
       "      <td>-0.071128</td>\n",
       "      <td>0.000004</td>\n",
       "      <td>0.170007</td>\n",
       "      <td>-0.066381</td>\n",
       "      <td>-0.115561</td>\n",
       "      <td>-0.096536</td>\n",
       "    </tr>\n",
       "    <tr>\n",
       "      <th>arrival_date_year</th>\n",
       "      <td>0.016412</td>\n",
       "      <td>0.039924</td>\n",
       "      <td>1.000000</td>\n",
       "      <td>-0.540493</td>\n",
       "      <td>-0.000590</td>\n",
       "      <td>0.021669</td>\n",
       "      <td>0.031754</td>\n",
       "      <td>0.029146</td>\n",
       "      <td>0.054492</td>\n",
       "      <td>-0.013183</td>\n",
       "      <td>0.010128</td>\n",
       "      <td>-0.119922</td>\n",
       "      <td>0.029800</td>\n",
       "      <td>0.031124</td>\n",
       "      <td>-0.056823</td>\n",
       "      <td>0.197857</td>\n",
       "      <td>-0.012661</td>\n",
       "      <td>0.108927</td>\n",
       "    </tr>\n",
       "    <tr>\n",
       "      <th>arrival_date_week_number</th>\n",
       "      <td>0.007465</td>\n",
       "      <td>0.126738</td>\n",
       "      <td>-0.540493</td>\n",
       "      <td>1.000000</td>\n",
       "      <td>0.066839</td>\n",
       "      <td>0.017642</td>\n",
       "      <td>0.015007</td>\n",
       "      <td>0.025394</td>\n",
       "      <td>0.005494</td>\n",
       "      <td>0.010039</td>\n",
       "      <td>-0.030411</td>\n",
       "      <td>0.035367</td>\n",
       "      <td>-0.020768</td>\n",
       "      <td>0.005187</td>\n",
       "      <td>0.022993</td>\n",
       "      <td>0.075277</td>\n",
       "      <td>0.001717</td>\n",
       "      <td>0.025778</td>\n",
       "    </tr>\n",
       "    <tr>\n",
       "      <th>arrival_date_day_of_month</th>\n",
       "      <td>-0.006127</td>\n",
       "      <td>0.002320</td>\n",
       "      <td>-0.000590</td>\n",
       "      <td>0.066839</td>\n",
       "      <td>1.000000</td>\n",
       "      <td>-0.015920</td>\n",
       "      <td>-0.027608</td>\n",
       "      <td>-0.001837</td>\n",
       "      <td>0.014562</td>\n",
       "      <td>-0.000539</td>\n",
       "      <td>-0.006340</td>\n",
       "      <td>-0.027013</td>\n",
       "      <td>0.000118</td>\n",
       "      <td>0.010767</td>\n",
       "      <td>0.022737</td>\n",
       "      <td>0.029923</td>\n",
       "      <td>0.008262</td>\n",
       "      <td>0.003082</td>\n",
       "    </tr>\n",
       "    <tr>\n",
       "      <th>stays_in_weekend_nights</th>\n",
       "      <td>-0.002631</td>\n",
       "      <td>0.083984</td>\n",
       "      <td>0.021669</td>\n",
       "      <td>0.017642</td>\n",
       "      <td>-0.015920</td>\n",
       "      <td>1.000000</td>\n",
       "      <td>0.494888</td>\n",
       "      <td>0.090410</td>\n",
       "      <td>0.045430</td>\n",
       "      <td>0.018396</td>\n",
       "      <td>-0.087836</td>\n",
       "      <td>-0.013008</td>\n",
       "      <td>-0.040597</td>\n",
       "      <td>0.062401</td>\n",
       "      <td>-0.054568</td>\n",
       "      <td>0.047300</td>\n",
       "      <td>-0.018147</td>\n",
       "      <td>0.071669</td>\n",
       "    </tr>\n",
       "    <tr>\n",
       "      <th>stays_in_week_nights</th>\n",
       "      <td>0.024110</td>\n",
       "      <td>0.164783</td>\n",
       "      <td>0.031754</td>\n",
       "      <td>0.015007</td>\n",
       "      <td>-0.027608</td>\n",
       "      <td>0.494888</td>\n",
       "      <td>1.000000</td>\n",
       "      <td>0.091999</td>\n",
       "      <td>0.044259</td>\n",
       "      <td>0.020157</td>\n",
       "      <td>-0.097994</td>\n",
       "      <td>-0.014274</td>\n",
       "      <td>-0.047367</td>\n",
       "      <td>0.095665</td>\n",
       "      <td>-0.002161</td>\n",
       "      <td>0.063628</td>\n",
       "      <td>-0.024378</td>\n",
       "      <td>0.066785</td>\n",
       "    </tr>\n",
       "    <tr>\n",
       "      <th>adults</th>\n",
       "      <td>0.058381</td>\n",
       "      <td>0.116799</td>\n",
       "      <td>0.029146</td>\n",
       "      <td>0.025394</td>\n",
       "      <td>-0.001837</td>\n",
       "      <td>0.090410</td>\n",
       "      <td>0.091999</td>\n",
       "      <td>1.000000</td>\n",
       "      <td>0.029590</td>\n",
       "      <td>0.017887</td>\n",
       "      <td>-0.147494</td>\n",
       "      <td>-0.006974</td>\n",
       "      <td>-0.105028</td>\n",
       "      <td>-0.052420</td>\n",
       "      <td>-0.008765</td>\n",
       "      <td>0.227480</td>\n",
       "      <td>0.016370</td>\n",
       "      <td>0.121815</td>\n",
       "    </tr>\n",
       "    <tr>\n",
       "      <th>children</th>\n",
       "      <td>0.004751</td>\n",
       "      <td>-0.038335</td>\n",
       "      <td>0.054492</td>\n",
       "      <td>0.005494</td>\n",
       "      <td>0.014562</td>\n",
       "      <td>0.045430</td>\n",
       "      <td>0.044259</td>\n",
       "      <td>0.029590</td>\n",
       "      <td>1.000000</td>\n",
       "      <td>0.024131</td>\n",
       "      <td>-0.032990</td>\n",
       "      <td>-0.024752</td>\n",
       "      <td>-0.020364</td>\n",
       "      <td>0.048660</td>\n",
       "      <td>-0.033396</td>\n",
       "      <td>0.325034</td>\n",
       "      <td>0.057060</td>\n",
       "      <td>0.081786</td>\n",
       "    </tr>\n",
       "    <tr>\n",
       "      <th>babies</th>\n",
       "      <td>-0.032521</td>\n",
       "      <td>-0.021149</td>\n",
       "      <td>-0.013183</td>\n",
       "      <td>0.010039</td>\n",
       "      <td>-0.000539</td>\n",
       "      <td>0.018396</td>\n",
       "      <td>0.020157</td>\n",
       "      <td>0.017887</td>\n",
       "      <td>0.024131</td>\n",
       "      <td>1.000000</td>\n",
       "      <td>-0.008954</td>\n",
       "      <td>-0.007489</td>\n",
       "      <td>-0.006306</td>\n",
       "      <td>0.083220</td>\n",
       "      <td>-0.010648</td>\n",
       "      <td>0.028591</td>\n",
       "      <td>0.036971</td>\n",
       "      <td>0.097601</td>\n",
       "    </tr>\n",
       "    <tr>\n",
       "      <th>is_repeated_guest</th>\n",
       "      <td>-0.085179</td>\n",
       "      <td>-0.125091</td>\n",
       "      <td>0.010128</td>\n",
       "      <td>-0.030411</td>\n",
       "      <td>-0.006340</td>\n",
       "      <td>-0.087836</td>\n",
       "      <td>-0.097994</td>\n",
       "      <td>-0.147494</td>\n",
       "      <td>-0.032990</td>\n",
       "      <td>-0.008954</td>\n",
       "      <td>1.000000</td>\n",
       "      <td>0.082376</td>\n",
       "      <td>0.423259</td>\n",
       "      <td>0.012164</td>\n",
       "      <td>-0.022322</td>\n",
       "      <td>-0.135388</td>\n",
       "      <td>0.077776</td>\n",
       "      <td>0.013151</td>\n",
       "    </tr>\n",
       "    <tr>\n",
       "      <th>previous_cancellations</th>\n",
       "      <td>0.109922</td>\n",
       "      <td>0.085961</td>\n",
       "      <td>-0.119922</td>\n",
       "      <td>0.035367</td>\n",
       "      <td>-0.027013</td>\n",
       "      <td>-0.013008</td>\n",
       "      <td>-0.014274</td>\n",
       "      <td>-0.006974</td>\n",
       "      <td>-0.024752</td>\n",
       "      <td>-0.007489</td>\n",
       "      <td>0.082376</td>\n",
       "      <td>1.000000</td>\n",
       "      <td>0.154285</td>\n",
       "      <td>-0.027092</td>\n",
       "      <td>0.005927</td>\n",
       "      <td>-0.065930</td>\n",
       "      <td>-0.018455</td>\n",
       "      <td>-0.048585</td>\n",
       "    </tr>\n",
       "    <tr>\n",
       "      <th>previous_bookings_not_canceled</th>\n",
       "      <td>-0.055493</td>\n",
       "      <td>-0.071128</td>\n",
       "      <td>0.029800</td>\n",
       "      <td>-0.020768</td>\n",
       "      <td>0.000118</td>\n",
       "      <td>-0.040597</td>\n",
       "      <td>-0.047367</td>\n",
       "      <td>-0.105028</td>\n",
       "      <td>-0.020364</td>\n",
       "      <td>-0.006306</td>\n",
       "      <td>0.423259</td>\n",
       "      <td>0.154285</td>\n",
       "      <td>1.000000</td>\n",
       "      <td>0.011970</td>\n",
       "      <td>-0.009011</td>\n",
       "      <td>-0.069638</td>\n",
       "      <td>0.046945</td>\n",
       "      <td>0.037595</td>\n",
       "    </tr>\n",
       "    <tr>\n",
       "      <th>booking_changes</th>\n",
       "      <td>-0.144659</td>\n",
       "      <td>0.000004</td>\n",
       "      <td>0.031124</td>\n",
       "      <td>0.005187</td>\n",
       "      <td>0.010767</td>\n",
       "      <td>0.062401</td>\n",
       "      <td>0.095665</td>\n",
       "      <td>-0.052420</td>\n",
       "      <td>0.048660</td>\n",
       "      <td>0.083220</td>\n",
       "      <td>0.012164</td>\n",
       "      <td>-0.027092</td>\n",
       "      <td>0.011970</td>\n",
       "      <td>1.000000</td>\n",
       "      <td>-0.011661</td>\n",
       "      <td>0.019201</td>\n",
       "      <td>0.065724</td>\n",
       "      <td>0.052434</td>\n",
       "    </tr>\n",
       "    <tr>\n",
       "      <th>days_in_waiting_list</th>\n",
       "      <td>0.054016</td>\n",
       "      <td>0.170007</td>\n",
       "      <td>-0.056823</td>\n",
       "      <td>0.022993</td>\n",
       "      <td>0.022737</td>\n",
       "      <td>-0.054568</td>\n",
       "      <td>-0.002161</td>\n",
       "      <td>-0.008765</td>\n",
       "      <td>-0.033396</td>\n",
       "      <td>-0.010648</td>\n",
       "      <td>-0.022322</td>\n",
       "      <td>0.005927</td>\n",
       "      <td>-0.009011</td>\n",
       "      <td>-0.011661</td>\n",
       "      <td>1.000000</td>\n",
       "      <td>-0.041333</td>\n",
       "      <td>-0.030462</td>\n",
       "      <td>-0.082970</td>\n",
       "    </tr>\n",
       "    <tr>\n",
       "      <th>adr</th>\n",
       "      <td>0.046199</td>\n",
       "      <td>-0.066381</td>\n",
       "      <td>0.197857</td>\n",
       "      <td>0.075277</td>\n",
       "      <td>0.029923</td>\n",
       "      <td>0.047300</td>\n",
       "      <td>0.063628</td>\n",
       "      <td>0.227480</td>\n",
       "      <td>0.325034</td>\n",
       "      <td>0.028591</td>\n",
       "      <td>-0.135388</td>\n",
       "      <td>-0.065930</td>\n",
       "      <td>-0.069638</td>\n",
       "      <td>0.019201</td>\n",
       "      <td>-0.041333</td>\n",
       "      <td>1.000000</td>\n",
       "      <td>0.058053</td>\n",
       "      <td>0.171458</td>\n",
       "    </tr>\n",
       "    <tr>\n",
       "      <th>required_car_parking_spaces</th>\n",
       "      <td>-0.194796</td>\n",
       "      <td>-0.115561</td>\n",
       "      <td>-0.012661</td>\n",
       "      <td>0.001717</td>\n",
       "      <td>0.008262</td>\n",
       "      <td>-0.018147</td>\n",
       "      <td>-0.024378</td>\n",
       "      <td>0.016370</td>\n",
       "      <td>0.057060</td>\n",
       "      <td>0.036971</td>\n",
       "      <td>0.077776</td>\n",
       "      <td>-0.018455</td>\n",
       "      <td>0.046945</td>\n",
       "      <td>0.065724</td>\n",
       "      <td>-0.030462</td>\n",
       "      <td>0.058053</td>\n",
       "      <td>1.000000</td>\n",
       "      <td>0.082675</td>\n",
       "    </tr>\n",
       "    <tr>\n",
       "      <th>total_of_special_requests</th>\n",
       "      <td>-0.235643</td>\n",
       "      <td>-0.096536</td>\n",
       "      <td>0.108927</td>\n",
       "      <td>0.025778</td>\n",
       "      <td>0.003082</td>\n",
       "      <td>0.071669</td>\n",
       "      <td>0.066785</td>\n",
       "      <td>0.121815</td>\n",
       "      <td>0.081786</td>\n",
       "      <td>0.097601</td>\n",
       "      <td>0.013151</td>\n",
       "      <td>-0.048585</td>\n",
       "      <td>0.037595</td>\n",
       "      <td>0.052434</td>\n",
       "      <td>-0.082970</td>\n",
       "      <td>0.171458</td>\n",
       "      <td>0.082675</td>\n",
       "      <td>1.000000</td>\n",
       "    </tr>\n",
       "  </tbody>\n",
       "</table>\n",
       "</div>"
      ],
      "text/plain": [
       "                                is_canceled  lead_time  arrival_date_year  \\\n",
       "is_canceled                        1.000000   0.291994           0.016412   \n",
       "lead_time                          0.291994   1.000000           0.039924   \n",
       "arrival_date_year                  0.016412   0.039924           1.000000   \n",
       "arrival_date_week_number           0.007465   0.126738          -0.540493   \n",
       "arrival_date_day_of_month         -0.006127   0.002320          -0.000590   \n",
       "stays_in_weekend_nights           -0.002631   0.083984           0.021669   \n",
       "stays_in_week_nights               0.024110   0.164783           0.031754   \n",
       "adults                             0.058381   0.116799           0.029146   \n",
       "children                           0.004751  -0.038335           0.054492   \n",
       "babies                            -0.032521  -0.021149          -0.013183   \n",
       "is_repeated_guest                 -0.085179  -0.125091           0.010128   \n",
       "previous_cancellations             0.109922   0.085961          -0.119922   \n",
       "previous_bookings_not_canceled    -0.055493  -0.071128           0.029800   \n",
       "booking_changes                   -0.144659   0.000004           0.031124   \n",
       "days_in_waiting_list               0.054016   0.170007          -0.056823   \n",
       "adr                                0.046199  -0.066381           0.197857   \n",
       "required_car_parking_spaces       -0.194796  -0.115561          -0.012661   \n",
       "total_of_special_requests         -0.235643  -0.096536           0.108927   \n",
       "\n",
       "                                arrival_date_week_number  \\\n",
       "is_canceled                                     0.007465   \n",
       "lead_time                                       0.126738   \n",
       "arrival_date_year                              -0.540493   \n",
       "arrival_date_week_number                        1.000000   \n",
       "arrival_date_day_of_month                       0.066839   \n",
       "stays_in_weekend_nights                         0.017642   \n",
       "stays_in_week_nights                            0.015007   \n",
       "adults                                          0.025394   \n",
       "children                                        0.005494   \n",
       "babies                                          0.010039   \n",
       "is_repeated_guest                              -0.030411   \n",
       "previous_cancellations                          0.035367   \n",
       "previous_bookings_not_canceled                 -0.020768   \n",
       "booking_changes                                 0.005187   \n",
       "days_in_waiting_list                            0.022993   \n",
       "adr                                             0.075277   \n",
       "required_car_parking_spaces                     0.001717   \n",
       "total_of_special_requests                       0.025778   \n",
       "\n",
       "                                arrival_date_day_of_month  \\\n",
       "is_canceled                                     -0.006127   \n",
       "lead_time                                        0.002320   \n",
       "arrival_date_year                               -0.000590   \n",
       "arrival_date_week_number                         0.066839   \n",
       "arrival_date_day_of_month                        1.000000   \n",
       "stays_in_weekend_nights                         -0.015920   \n",
       "stays_in_week_nights                            -0.027608   \n",
       "adults                                          -0.001837   \n",
       "children                                         0.014562   \n",
       "babies                                          -0.000539   \n",
       "is_repeated_guest                               -0.006340   \n",
       "previous_cancellations                          -0.027013   \n",
       "previous_bookings_not_canceled                   0.000118   \n",
       "booking_changes                                  0.010767   \n",
       "days_in_waiting_list                             0.022737   \n",
       "adr                                              0.029923   \n",
       "required_car_parking_spaces                      0.008262   \n",
       "total_of_special_requests                        0.003082   \n",
       "\n",
       "                                stays_in_weekend_nights  stays_in_week_nights  \\\n",
       "is_canceled                                   -0.002631              0.024110   \n",
       "lead_time                                      0.083984              0.164783   \n",
       "arrival_date_year                              0.021669              0.031754   \n",
       "arrival_date_week_number                       0.017642              0.015007   \n",
       "arrival_date_day_of_month                     -0.015920             -0.027608   \n",
       "stays_in_weekend_nights                        1.000000              0.494888   \n",
       "stays_in_week_nights                           0.494888              1.000000   \n",
       "adults                                         0.090410              0.091999   \n",
       "children                                       0.045430              0.044259   \n",
       "babies                                         0.018396              0.020157   \n",
       "is_repeated_guest                             -0.087836             -0.097994   \n",
       "previous_cancellations                        -0.013008             -0.014274   \n",
       "previous_bookings_not_canceled                -0.040597             -0.047367   \n",
       "booking_changes                                0.062401              0.095665   \n",
       "days_in_waiting_list                          -0.054568             -0.002161   \n",
       "adr                                            0.047300              0.063628   \n",
       "required_car_parking_spaces                   -0.018147             -0.024378   \n",
       "total_of_special_requests                      0.071669              0.066785   \n",
       "\n",
       "                                  adults  children    babies  \\\n",
       "is_canceled                     0.058381  0.004751 -0.032521   \n",
       "lead_time                       0.116799 -0.038335 -0.021149   \n",
       "arrival_date_year               0.029146  0.054492 -0.013183   \n",
       "arrival_date_week_number        0.025394  0.005494  0.010039   \n",
       "arrival_date_day_of_month      -0.001837  0.014562 -0.000539   \n",
       "stays_in_weekend_nights         0.090410  0.045430  0.018396   \n",
       "stays_in_week_nights            0.091999  0.044259  0.020157   \n",
       "adults                          1.000000  0.029590  0.017887   \n",
       "children                        0.029590  1.000000  0.024131   \n",
       "babies                          0.017887  0.024131  1.000000   \n",
       "is_repeated_guest              -0.147494 -0.032990 -0.008954   \n",
       "previous_cancellations         -0.006974 -0.024752 -0.007489   \n",
       "previous_bookings_not_canceled -0.105028 -0.020364 -0.006306   \n",
       "booking_changes                -0.052420  0.048660  0.083220   \n",
       "days_in_waiting_list           -0.008765 -0.033396 -0.010648   \n",
       "adr                             0.227480  0.325034  0.028591   \n",
       "required_car_parking_spaces     0.016370  0.057060  0.036971   \n",
       "total_of_special_requests       0.121815  0.081786  0.097601   \n",
       "\n",
       "                                is_repeated_guest  previous_cancellations  \\\n",
       "is_canceled                             -0.085179                0.109922   \n",
       "lead_time                               -0.125091                0.085961   \n",
       "arrival_date_year                        0.010128               -0.119922   \n",
       "arrival_date_week_number                -0.030411                0.035367   \n",
       "arrival_date_day_of_month               -0.006340               -0.027013   \n",
       "stays_in_weekend_nights                 -0.087836               -0.013008   \n",
       "stays_in_week_nights                    -0.097994               -0.014274   \n",
       "adults                                  -0.147494               -0.006974   \n",
       "children                                -0.032990               -0.024752   \n",
       "babies                                  -0.008954               -0.007489   \n",
       "is_repeated_guest                        1.000000                0.082376   \n",
       "previous_cancellations                   0.082376                1.000000   \n",
       "previous_bookings_not_canceled           0.423259                0.154285   \n",
       "booking_changes                          0.012164               -0.027092   \n",
       "days_in_waiting_list                    -0.022322                0.005927   \n",
       "adr                                     -0.135388               -0.065930   \n",
       "required_car_parking_spaces              0.077776               -0.018455   \n",
       "total_of_special_requests                0.013151               -0.048585   \n",
       "\n",
       "                                previous_bookings_not_canceled  \\\n",
       "is_canceled                                          -0.055493   \n",
       "lead_time                                            -0.071128   \n",
       "arrival_date_year                                     0.029800   \n",
       "arrival_date_week_number                             -0.020768   \n",
       "arrival_date_day_of_month                             0.000118   \n",
       "stays_in_weekend_nights                              -0.040597   \n",
       "stays_in_week_nights                                 -0.047367   \n",
       "adults                                               -0.105028   \n",
       "children                                             -0.020364   \n",
       "babies                                               -0.006306   \n",
       "is_repeated_guest                                     0.423259   \n",
       "previous_cancellations                                0.154285   \n",
       "previous_bookings_not_canceled                        1.000000   \n",
       "booking_changes                                       0.011970   \n",
       "days_in_waiting_list                                 -0.009011   \n",
       "adr                                                  -0.069638   \n",
       "required_car_parking_spaces                           0.046945   \n",
       "total_of_special_requests                             0.037595   \n",
       "\n",
       "                                booking_changes  days_in_waiting_list  \\\n",
       "is_canceled                           -0.144659              0.054016   \n",
       "lead_time                              0.000004              0.170007   \n",
       "arrival_date_year                      0.031124             -0.056823   \n",
       "arrival_date_week_number               0.005187              0.022993   \n",
       "arrival_date_day_of_month              0.010767              0.022737   \n",
       "stays_in_weekend_nights                0.062401             -0.054568   \n",
       "stays_in_week_nights                   0.095665             -0.002161   \n",
       "adults                                -0.052420             -0.008765   \n",
       "children                               0.048660             -0.033396   \n",
       "babies                                 0.083220             -0.010648   \n",
       "is_repeated_guest                      0.012164             -0.022322   \n",
       "previous_cancellations                -0.027092              0.005927   \n",
       "previous_bookings_not_canceled         0.011970             -0.009011   \n",
       "booking_changes                        1.000000             -0.011661   \n",
       "days_in_waiting_list                  -0.011661              1.000000   \n",
       "adr                                    0.019201             -0.041333   \n",
       "required_car_parking_spaces            0.065724             -0.030462   \n",
       "total_of_special_requests              0.052434             -0.082970   \n",
       "\n",
       "                                     adr  required_car_parking_spaces  \\\n",
       "is_canceled                     0.046199                    -0.194796   \n",
       "lead_time                      -0.066381                    -0.115561   \n",
       "arrival_date_year               0.197857                    -0.012661   \n",
       "arrival_date_week_number        0.075277                     0.001717   \n",
       "arrival_date_day_of_month       0.029923                     0.008262   \n",
       "stays_in_weekend_nights         0.047300                    -0.018147   \n",
       "stays_in_week_nights            0.063628                    -0.024378   \n",
       "adults                          0.227480                     0.016370   \n",
       "children                        0.325034                     0.057060   \n",
       "babies                          0.028591                     0.036971   \n",
       "is_repeated_guest              -0.135388                     0.077776   \n",
       "previous_cancellations         -0.065930                    -0.018455   \n",
       "previous_bookings_not_canceled -0.069638                     0.046945   \n",
       "booking_changes                 0.019201                     0.065724   \n",
       "days_in_waiting_list           -0.041333                    -0.030462   \n",
       "adr                             1.000000                     0.058053   \n",
       "required_car_parking_spaces     0.058053                     1.000000   \n",
       "total_of_special_requests       0.171458                     0.082675   \n",
       "\n",
       "                                total_of_special_requests  \n",
       "is_canceled                                     -0.235643  \n",
       "lead_time                                       -0.096536  \n",
       "arrival_date_year                                0.108927  \n",
       "arrival_date_week_number                         0.025778  \n",
       "arrival_date_day_of_month                        0.003082  \n",
       "stays_in_weekend_nights                          0.071669  \n",
       "stays_in_week_nights                             0.066785  \n",
       "adults                                           0.121815  \n",
       "children                                         0.081786  \n",
       "babies                                           0.097601  \n",
       "is_repeated_guest                                0.013151  \n",
       "previous_cancellations                          -0.048585  \n",
       "previous_bookings_not_canceled                   0.037595  \n",
       "booking_changes                                  0.052434  \n",
       "days_in_waiting_list                            -0.082970  \n",
       "adr                                              0.171458  \n",
       "required_car_parking_spaces                      0.082675  \n",
       "total_of_special_requests                        1.000000  "
      ]
     },
     "execution_count": 9,
     "metadata": {},
     "output_type": "execute_result"
    }
   ],
   "source": [
    "# Correlation\n",
    "df.corr(method='pearson')"
   ]
  },
  {
   "cell_type": "code",
   "execution_count": 10,
   "metadata": {},
   "outputs": [
    {
     "data": {
      "text/plain": [
       "PRT    48586\n",
       "GBR    12129\n",
       "FRA    10415\n",
       "ESP     8568\n",
       "DEU     7287\n",
       "ITA     3766\n",
       "IRL     3375\n",
       "BEL     2342\n",
       "BRA     2224\n",
       "NLD     2104\n",
       "Name: country, dtype: int64"
      ]
     },
     "execution_count": 10,
     "metadata": {},
     "output_type": "execute_result"
    }
   ],
   "source": [
    "# What are the top 10 most common country codes in the dataset?\n",
    "df['country'].value_counts()[:10]"
   ]
  },
  {
   "cell_type": "code",
   "execution_count": 11,
   "metadata": {},
   "outputs": [
    {
     "data": {
      "text/plain": [
       "City Hotel      0.67\n",
       "Resort Hotel    0.33\n",
       "Name: hotel, dtype: float64"
      ]
     },
     "execution_count": 11,
     "metadata": {},
     "output_type": "execute_result"
    }
   ],
   "source": [
    "# where do the guests come from?\n",
    "round(df['hotel'].value_counts(normalize=True),2)"
   ]
  },
  {
   "cell_type": "code",
   "execution_count": 12,
   "metadata": {},
   "outputs": [
    {
     "data": {
      "text/plain": [
       "A    85601\n",
       "D    19173\n",
       "E     6497\n",
       "F     2890\n",
       "G     2083\n",
       "B     1114\n",
       "C      931\n",
       "H      601\n",
       "L        6\n",
       "P        2\n",
       "Name: reserved_room_type, dtype: int64"
      ]
     },
     "execution_count": 12,
     "metadata": {},
     "output_type": "execute_result"
    }
   ],
   "source": [
    "# reserved_room_type  in the entire dataset\n",
    "df['reserved_room_type'].value_counts()"
   ]
  },
  {
   "cell_type": "code",
   "execution_count": 13,
   "metadata": {},
   "outputs": [
    {
     "data": {
      "text/plain": [
       "Transient          0.75\n",
       "Transient-Party    0.21\n",
       "Contract           0.03\n",
       "Group              0.00\n",
       "Name: customer_type, dtype: float64"
      ]
     },
     "execution_count": 13,
     "metadata": {},
     "output_type": "execute_result"
    }
   ],
   "source": [
    "# customer_type\n",
    "round(df['customer_type'].value_counts(normalize=True),2)"
   ]
  },
  {
   "cell_type": "code",
   "execution_count": 14,
   "metadata": {},
   "outputs": [
    {
     "data": {
      "image/png": "[encoded data removed]",
      "text/plain": [
       "<Figure size 800x400 with 1 Axes>"
      ]
     },
     "metadata": {
      "needs_background": "light"
     },
     "output_type": "display_data"
    }
   ],
   "source": [
    "# visualization of the customer_type\n",
    "plt.figure(figsize=(8,4),dpi=100)\n",
    "sns.countplot(x='hotel',hue='customer_type',data=df,palette='muted')\n",
    "plt.show()"
   ]
  },
  {
   "cell_type": "code",
   "execution_count": 15,
   "metadata": {},
   "outputs": [
    {
     "data": {
      "text/plain": [
       "BB           0.772620\n",
       "HB           0.121398\n",
       "SC           0.089472\n",
       "Undefined    0.009798\n",
       "FB           0.006712\n",
       "Name: meal, dtype: float64"
      ]
     },
     "execution_count": 15,
     "metadata": {},
     "output_type": "execute_result"
    }
   ],
   "source": [
    "# meal\n",
    "df['meal'].value_counts(normalize=True)"
   ]
  },
  {
   "cell_type": "code",
   "execution_count": 16,
   "metadata": {},
   "outputs": [
    {
     "data": {
      "image/png": "[encoded data removed]",
      "text/plain": [
       "<Figure size 1500x600 with 1 Axes>"
      ]
     },
     "metadata": {
      "needs_background": "light"
     },
     "output_type": "display_data"
    }
   ],
   "source": [
    "# visualization of meal \n",
    "plt.figure(figsize=(10,4),dpi=150)\n",
    "sns.countplot(x='meal',data=df,hue='hotel',palette='muted')\n",
    "plt.show()"
   ]
  },
  {
   "cell_type": "code",
   "execution_count": 17,
   "metadata": {},
   "outputs": [
    {
     "name": "stdout",
     "output_type": "stream",
     "text": [
      "Total Bookings cancelled\n",
      "0    74745\n",
      "1    44153\n",
      "Name: is_canceled, dtype: int64\n",
      "Cancelation percentage\n",
      "0    0.63\n",
      "1    0.37\n",
      "Name: is_canceled, dtype: float64\n"
     ]
    }
   ],
   "source": [
    "#cancelled bookings\n",
    "print('Total Bookings cancelled')\n",
    "print(df.is_canceled.value_counts())\n",
    "print('Cancelation percentage')\n",
    "print(round(df.is_canceled.value_counts(normalize=True),2))"
   ]
  },
  {
   "cell_type": "code",
   "execution_count": 18,
   "metadata": {},
   "outputs": [
    {
     "data": {
      "image/png": "[encoded data removed]",
      "text/plain": [
       "<Figure size 800x400 with 1 Axes>"
      ]
     },
     "metadata": {
      "needs_background": "light"
     },
     "output_type": "display_data"
    }
   ],
   "source": [
    "# 0 not canceled , 1 cancelled\n",
    "plt.figure(figsize=(8,4),dpi=100)\n",
    "sns.countplot(x='hotel',hue='is_canceled',data=df,palette='muted')\n",
    "plt.show()"
   ]
  },
  {
   "cell_type": "code",
   "execution_count": 19,
   "metadata": {},
   "outputs": [
    {
     "data": {
      "text/plain": [
       "3.43"
      ]
     },
     "execution_count": 19,
     "metadata": {},
     "output_type": "execute_result"
    }
   ],
   "source": [
    "# What is the average (mean) number of nights for a stay across the entire data set? \n",
    "df['total_stay_days'] = df['stays_in_week_nights'] + df['stays_in_weekend_nights']\n",
    "\n",
    "round(df['total_stay_days'].mean(),2)"
   ]
  },
  {
   "cell_type": "code",
   "execution_count": 20,
   "metadata": {},
   "outputs": [
    {
     "data": {
      "text/plain": [
       "358.46"
      ]
     },
     "execution_count": 20,
     "metadata": {},
     "output_type": "execute_result"
    }
   ],
   "source": [
    "# What is the average total cost for a stay in the entire data set?\n",
    "df['total_paid'] = df['adr'] * df['total_stay_days']\n",
    "round(df['total_paid'].mean(),2)"
   ]
  },
  {
   "cell_type": "code",
   "execution_count": 21,
   "metadata": {},
   "outputs": [
    {
     "data": {
      "text/plain": [
       "August       0.12\n",
       "July         0.11\n",
       "May          0.10\n",
       "October      0.09\n",
       "April        0.09\n",
       "June         0.09\n",
       "September    0.09\n",
       "March        0.08\n",
       "February     0.07\n",
       "November     0.06\n",
       "December     0.06\n",
       "January      0.05\n",
       "Name: arrival_date_month, dtype: float64"
      ]
     },
     "execution_count": 21,
     "metadata": {},
     "output_type": "execute_result"
    }
   ],
   "source": [
    "# Arrivals for each month\n",
    "round(df['arrival_date_month'].value_counts(normalize=True),2)"
   ]
  },
  {
   "cell_type": "code",
   "execution_count": 22,
   "metadata": {},
   "outputs": [
    {
     "data": {
      "image/png": "[encoded data removed]",
      "text/plain": [
       "<Figure size 1800x1200 with 1 Axes>"
      ]
     },
     "metadata": {
      "needs_background": "light"
     },
     "output_type": "display_data"
    }
   ],
   "source": [
    "# Display the arrivals for each month,for both hotels\n",
    "plt.figure(figsize=(12,8),dpi=150)\n",
    "sns.countplot(data=df,x='arrival_date_month',hue='hotel', palette='muted')\n",
    "plt.show()"
   ]
  },
  {
   "cell_type": "code",
   "execution_count": 23,
   "metadata": {},
   "outputs": [
    {
     "data": {
      "text/plain": [
       "Online TA        0.474373\n",
       "Offline TA/TO    0.203199\n",
       "Groups           0.166580\n",
       "Direct           0.104695\n",
       "Corporate        0.042986\n",
       "Complementary    0.006173\n",
       "Aviation         0.001993\n",
       "Name: market_segment, dtype: float64"
      ]
     },
     "execution_count": 23,
     "metadata": {},
     "output_type": "execute_result"
    }
   ],
   "source": [
    "# market segment\n",
    "df['market_segment'].value_counts(normalize=True)"
   ]
  },
  {
   "cell_type": "code",
   "execution_count": 24,
   "metadata": {},
   "outputs": [
    {
     "data": {
      "image/png": "[encoded data removed]",
      "text/plain": [
       "<Figure size 1800x1200 with 1 Axes>"
      ]
     },
     "metadata": {
      "needs_background": "light"
     },
     "output_type": "display_data"
    }
   ],
   "source": [
    "plt.figure(figsize=(12,8),dpi=150)\n",
    "sns.countplot(data=df,x='market_segment',hue='hotel',palette='muted')\n",
    "plt.show()"
   ]
  },
  {
   "cell_type": "code",
   "execution_count": 25,
   "metadata": {},
   "outputs": [
    {
     "data": {
      "image/png": "[encoded data removed]",
      "text/plain": [
       "<Figure size 864x432 with 1 Axes>"
      ]
     },
     "metadata": {
      "needs_background": "light"
     },
     "output_type": "display_data"
    }
   ],
   "source": [
    "# The average price booked by different resources\n",
    "# If visitors book hotels directly or by Online Tutor Agency, the price tends to be higher than other resources.\n",
    "\n",
    "plt.figure(figsize=(12, 6))\n",
    "sns.barplot(x='market_segment', y='adr', data=df, palette='muted')\n",
    "plt.show()"
   ]
  },
  {
   "cell_type": "code",
   "execution_count": 26,
   "metadata": {},
   "outputs": [
    {
     "data": {
      "text/html": [
       "<div>\n",
       "<style scoped>\n",
       "    .dataframe tbody tr th:only-of-type {\n",
       "        vertical-align: middle;\n",
       "    }\n",
       "\n",
       "    .dataframe tbody tr th {\n",
       "        vertical-align: top;\n",
       "    }\n",
       "\n",
       "    .dataframe thead th {\n",
       "        text-align: right;\n",
       "    }\n",
       "</style>\n",
       "<table border=\"1\" class=\"dataframe\">\n",
       "  <thead>\n",
       "    <tr style=\"text-align: right;\">\n",
       "      <th></th>\n",
       "      <th>adr</th>\n",
       "    </tr>\n",
       "    <tr>\n",
       "      <th>hotel</th>\n",
       "      <th></th>\n",
       "    </tr>\n",
       "  </thead>\n",
       "  <tbody>\n",
       "    <tr>\n",
       "      <th>City Hotel</th>\n",
       "      <td>105.326470</td>\n",
       "    </tr>\n",
       "    <tr>\n",
       "      <th>Resort Hotel</th>\n",
       "      <td>95.347555</td>\n",
       "    </tr>\n",
       "  </tbody>\n",
       "</table>\n",
       "</div>"
      ],
      "text/plain": [
       "                     adr\n",
       "hotel                   \n",
       "City Hotel    105.326470\n",
       "Resort Hotel   95.347555"
      ]
     },
     "execution_count": 26,
     "metadata": {},
     "output_type": "execute_result"
    }
   ],
   "source": [
    "# Shows the mean of daily rate by hotel type\n",
    "# City hotel is more expensive than Resort Hotel\n",
    "\n",
    "pd.pivot_table(df,index=['hotel'], values='adr')\n"
   ]
  },
  {
   "cell_type": "code",
   "execution_count": 27,
   "metadata": {},
   "outputs": [
    {
     "data": {
      "text/plain": [
       "2     89495\n",
       "1     22735\n",
       "3      6197\n",
       "0       393\n",
       "4        62\n",
       "26        5\n",
       "27        2\n",
       "20        2\n",
       "5         2\n",
       "55        1\n",
       "50        1\n",
       "40        1\n",
       "10        1\n",
       "6         1\n",
       "Name: adults, dtype: int64"
      ]
     },
     "execution_count": 27,
     "metadata": {},
     "output_type": "execute_result"
    }
   ],
   "source": [
    "# Calculate the number of adults in both hotels\n",
    "df['adults'].value_counts()"
   ]
  },
  {
   "cell_type": "code",
   "execution_count": 28,
   "metadata": {},
   "outputs": [
    {
     "data": {
      "text/plain": [
       "Text(0.5, 1.0, 'Number of adults in both hotels')"
      ]
     },
     "execution_count": 28,
     "metadata": {},
     "output_type": "execute_result"
    },
    {
     "data": {
      "image/png": "[encoded data removed]",
      "text/plain": [
       "<Figure size 1080x576 with 1 Axes>"
      ]
     },
     "metadata": {
      "needs_background": "light"
     },
     "output_type": "display_data"
    }
   ],
   "source": [
    "# Display the number of adults in both hotels.\n",
    "\n",
    "plt.figure(figsize=(15, 8))\n",
    "sns.countplot(x='adults',hue='hotel', data=df, palette='muted')\n",
    "plt.title(\"Number of adults in both hotels\",fontweight=\"bold\", size=20)"
   ]
  },
  {
   "cell_type": "code",
   "execution_count": 29,
   "metadata": {},
   "outputs": [],
   "source": [
    "# Change the data types in columns\n",
    "df['children'] = df['children'].astype('Int64')\n"
   ]
  },
  {
   "cell_type": "code",
   "execution_count": 30,
   "metadata": {},
   "outputs": [
    {
     "data": {
      "text/plain": [
       "0     109580\n",
       "1       5435\n",
       "2       3769\n",
       "3        111\n",
       "10         2\n",
       "9          1\n",
       "Name: total_kids, dtype: Int64"
      ]
     },
     "execution_count": 30,
     "metadata": {},
     "output_type": "execute_result"
    }
   ],
   "source": [
    "# Calculate the number of total_kids in both hotels\n",
    "df['total_kids'] = df['babies'] + df['children']\n",
    "df['total_kids'].value_counts()\n"
   ]
  },
  {
   "cell_type": "code",
   "execution_count": 31,
   "metadata": {},
   "outputs": [
    {
     "data": {
      "text/plain": [
       "Text(0.5, 1.0, 'Number of total_kids in both hotels')"
      ]
     },
     "execution_count": 31,
     "metadata": {},
     "output_type": "execute_result"
    },
    {
     "data": {
      "image/png": "[encoded data removed]",
      "text/plain": [
       "<Figure size 1080x576 with 1 Axes>"
      ]
     },
     "metadata": {
      "needs_background": "light"
     },
     "output_type": "display_data"
    }
   ],
   "source": [
    "# Display the number of total_kids in both botels.\n",
    "\n",
    "plt.figure(figsize=(15, 8))\n",
    "sns.countplot(x='total_kids',hue='hotel', data=df, palette='muted')\n",
    "plt.title(\"Number of total_kids in both hotels\",fontweight=\"bold\", size=20)\n"
   ]
  },
  {
   "cell_type": "code",
   "execution_count": 32,
   "metadata": {},
   "outputs": [
    {
     "data": {
      "image/png": "[encoded data removed]",
      "text/plain": [
       "<Figure size 864x576 with 1 Axes>"
      ]
     },
     "metadata": {
      "needs_background": "light"
     },
     "output_type": "display_data"
    }
   ],
   "source": [
    "# Bookings made a few days before the arrival date are rarely canceled, whereas bookings made over one year in advance are canceled very often.\n",
    "\n",
    "# group data for lead_time:\n",
    "lead_cancel_data = df.groupby(\"lead_time\")[\"is_canceled\"].describe()\n",
    "# use only lead_times wih more than 10 bookings for graph:\n",
    "lead_cancel_data_10 = lead_cancel_data.loc[lead_cancel_data[\"count\"] >= 10]\n",
    "\n",
    "#show figure:\n",
    "plt.figure(figsize=(12, 8))\n",
    "sns.regplot(x=lead_cancel_data_10.index, y=lead_cancel_data_10[\"mean\"].values * 100)\n",
    "plt.title(\"Effect of lead time on cancelation\", fontsize=16)\n",
    "plt.xlabel(\"Lead time\", fontsize=16)\n",
    "plt.ylabel(\"Cancelations [%]\", fontsize=16)\n",
    "# plt.xlim(0,365)\n",
    "plt.show()"
   ]
  },
  {
   "cell_type": "code",
   "execution_count": 33,
   "metadata": {},
   "outputs": [],
   "source": [
    "# Create a table for counts for each day of the week that people arrived. \n",
    "def convert(day,month,year):\n",
    "    return f'{day}-{month}-{year}'"
   ]
  },
  {
   "cell_type": "code",
   "execution_count": 34,
   "metadata": {},
   "outputs": [],
   "source": [
    "df['date']  = np.vectorize(convert)(df['arrival_date_day_of_month'],\n",
    "                                        df['arrival_date_month'],\n",
    "                                        df['arrival_date_year'])"
   ]
  },
  {
   "cell_type": "code",
   "execution_count": 35,
   "metadata": {},
   "outputs": [
    {
     "data": {
      "text/plain": [
       "Friday       19587\n",
       "Thursday     19178\n",
       "Monday       18094\n",
       "Saturday     18008\n",
       "Wednesday    16029\n",
       "Sunday       14110\n",
       "Tuesday      13892\n",
       "Name: date, dtype: int64"
      ]
     },
     "execution_count": 35,
     "metadata": {},
     "output_type": "execute_result"
    }
   ],
   "source": [
    "df['date'] = pd.to_datetime(df['date'])\n",
    "df['date'].dt.day_name().value_counts()"
   ]
  },
  {
   "cell_type": "code",
   "execution_count": null,
   "metadata": {},
   "outputs": [],
   "source": []
  }
 ],
 "metadata": {
  "kernelspec": {
   "display_name": "Python 3",
   "language": "python",
   "name": "python3"
  },
  "language_info": {
   "codemirror_mode": {
    "name": "ipython",
    "version": 3
   },
   "file_extension": ".py",
   "mimetype": "text/x-python",
   "name": "python",
   "nbconvert_exporter": "python",
   "pygments_lexer": "ipython3",
   "version": "3.8.5"
  }
 },
 "nbformat": 4,
 "nbformat_minor": 4
}
